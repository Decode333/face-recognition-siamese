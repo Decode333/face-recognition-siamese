{
 "cells": [
  {
   "cell_type": "code",
   "execution_count": 7,
   "id": "25af6395-fbfe-4ee8-a20e-223b4440c9e7",
   "metadata": {},
   "outputs": [],
   "source": [
    "import os\n",
    "import cv2\n",
    "import uuid\n",
    "import numpy as np\n",
    "from matplotlib import pyplot as plt"
   ]
  },
  {
   "cell_type": "code",
   "execution_count": 8,
   "id": "efe10898-bacf-4617-a49e-68524652ee7d",
   "metadata": {},
   "outputs": [],
   "source": [
    "import tensorflow as tf\n",
    "from tensorflow.keras.models import Model\n",
    "from tensorflow.keras.layers import Input, Conv2D, MaxPooling2D, Flatten, Dense, Dropout, Layer\n",
    "from sklearn.model_selection import train_test_split"
   ]
  },
  {
   "cell_type": "code",
   "execution_count": 50,
   "id": "15a7a8d5-7153-4c5e-8b17-f24afc4281ec",
   "metadata": {},
   "outputs": [],
   "source": [
    "# Set these before running\n",
    "DATA_DIR = r\"E:\\face recognition data\\Class\"\n",
    "EMBEDDING_PATH = r\"E:\\face recognition data\\class_embeddings.npy\"\n",
    "CLASS_NAMES_PATH = r\"E:\\face recognition data\\class_names.npy\"\n",
    "MODEL_WEIGHTS_PATH = r\"E:\\face recognition data\\siamese_model.h5\"\n",
    "MODEL_DIR = r\"E:\\face recognition data\""
   ]
  },
  {
   "cell_type": "code",
   "execution_count": 19,
   "id": "4c07f445-87de-4180-99e6-d9145294ed69",
   "metadata": {},
   "outputs": [],
   "source": [
    "MODE = \"train\"  # change to \"realtime\" to run OpenCV-based identification or \"data_collection\" to collect images\n",
    "IMAGE_SIZE = (100, 100)"
   ]
  },
  {
   "cell_type": "code",
   "execution_count": 11,
   "id": "83ddb204-1b39-482e-96ab-9071df056ea5",
   "metadata": {},
   "outputs": [],
   "source": [
    "def collect_images():\n",
    "    print(\"\\nStarting image collection... Press 's' to save, 'q' to quit.\")\n",
    "    name = input(\"Enter class name: \")\n",
    "    class_path = os.path.join(DATA_DIR, name)\n",
    "    os.makedirs(class_path, exist_ok=True)\n",
    "\n",
    "    cap = cv2.VideoCapture(0)\n",
    "    while True:\n",
    "        ret, frame = cap.read()\n",
    "        if not ret:\n",
    "            break\n",
    "        roi = frame[120:120+330, 150:150+330, :]\n",
    "        cv2.imshow(\"Capturing\", roi)\n",
    "\n",
    "        key = cv2.waitKey(1) & 0xFF\n",
    "        if key == ord('s'):\n",
    "            imgname = os.path.join(class_path, '{}.jpg'.format(uuid.uuid1()))\n",
    "            cv2.imwrite(imgname, roi)\n",
    "            print(f\"Saved {imgname}\")\n",
    "        elif key == ord('q'):\n",
    "            break\n",
    "\n",
    "    cap.release()\n",
    "    cv2.destroyAllWindows()"
   ]
  },
  {
   "cell_type": "code",
   "execution_count": 12,
   "id": "88a90c84-5306-4f7a-9e90-244ebdfe3671",
   "metadata": {},
   "outputs": [],
   "source": [
    "def preprocess_image(path):\n",
    "    img = cv2.imread(path)\n",
    "    img = cv2.resize(img, IMAGE_SIZE)\n",
    "    img = img / 255.0\n",
    "    return img"
   ]
  },
  {
   "cell_type": "code",
   "execution_count": 13,
   "id": "ba4d23c0-8bd7-489a-9775-01bb5db7eaf3",
   "metadata": {},
   "outputs": [],
   "source": [
    "def create_pairs():\n",
    "    pairs = []\n",
    "    labels = []\n",
    "    class_dirs = [d for d in os.listdir(DATA_DIR) if os.path.isdir(os.path.join(DATA_DIR, d))]\n",
    "    class_to_imgs = {\n",
    "        c: [os.path.join(DATA_DIR, c, f) for f in os.listdir(os.path.join(DATA_DIR, c))]\n",
    "        for c in class_dirs\n",
    "    }\n",
    "    for c in class_dirs:\n",
    "        imgs = class_to_imgs[c]\n",
    "        for i in range(len(imgs)):\n",
    "            for j in range(i + 1, len(imgs)):\n",
    "                pairs.append((imgs[i], imgs[j]))\n",
    "                labels.append(1)\n",
    "            other_classes = [k for k in class_dirs if k != c]\n",
    "            for neg_class in other_classes:\n",
    "                neg_img = np.random.choice(class_to_imgs[neg_class])\n",
    "                pairs.append((imgs[i], neg_img))\n",
    "                labels.append(0)\n",
    "    return pairs, labels, class_dirs"
   ]
  },
  {
   "cell_type": "code",
   "execution_count": 14,
   "id": "01469487-1d0d-4abc-bee0-d2775c56f3df",
   "metadata": {},
   "outputs": [],
   "source": [
    "def make_embedding_model():\n",
    "    inp = Input(shape=(100, 100, 3))\n",
    "    x = Conv2D(32, (3, 3), activation='relu', padding='same')(inp)\n",
    "    x = MaxPooling2D()(x)\n",
    "    x = Conv2D(64, (3, 3), activation='relu', padding='same')(x)\n",
    "    x = MaxPooling2D()(x)\n",
    "    x = Conv2D(128, (3, 3), activation='relu', padding='same')(x)\n",
    "    x = MaxPooling2D()(x)\n",
    "    x = Flatten()(x)\n",
    "    x = Dense(256, activation='relu')(x)\n",
    "    x = Dropout(0.3)(x)\n",
    "    out = Dense(128, activation='sigmoid')(x)\n",
    "    return Model(inp, out)"
   ]
  },
  {
   "cell_type": "code",
   "execution_count": 15,
   "id": "54fdfe1b-ba09-47b6-aefb-73371c3dc639",
   "metadata": {},
   "outputs": [],
   "source": [
    "class L1Dist(Layer):\n",
    "    def call(self, a, b):\n",
    "        return tf.math.abs(a - b)"
   ]
  },
  {
   "cell_type": "code",
   "execution_count": 16,
   "id": "295d7b78-3b17-453b-837d-a66034397372",
   "metadata": {},
   "outputs": [],
   "source": [
    "def make_siamese_model(embedding):\n",
    "    input_a = Input(shape=(100, 100, 3))\n",
    "    input_b = Input(shape=(100, 100, 3))\n",
    "    emb_a = embedding(input_a)\n",
    "    emb_b = embedding(input_b)\n",
    "    distance = L1Dist()(emb_a, emb_b)\n",
    "    output = Dense(1, activation='sigmoid')(distance)\n",
    "    return Model([input_a, input_b], output)"
   ]
  },
  {
   "cell_type": "code",
   "execution_count": 45,
   "id": "c1847c39-a4e6-4920-869a-0bd6a8ecc100",
   "metadata": {},
   "outputs": [],
   "source": [
    "def train():\n",
    "    print(\"[INFO] Starting training...\")\n",
    "\n",
    "    # Load image paths\n",
    "    class_to_imgs = {}\n",
    "    for class_dir in os.listdir(DATA_DIR):\n",
    "        class_path = os.path.join(DATA_DIR, class_dir)\n",
    "        if not os.path.isdir(class_path): continue\n",
    "        image_files = [os.path.join(class_path, f) for f in os.listdir(class_path) if f.lower().endswith((\".jpg\", \".png\"))]\n",
    "        class_to_imgs[class_dir] = image_files\n",
    "\n",
    "    class_names = list(class_to_imgs.keys())\n",
    "\n",
    "    # Generate training pairs (positive and negative)\n",
    "    pairs = []\n",
    "    labels = []\n",
    "\n",
    "    for class_dir in class_names:\n",
    "        images = class_to_imgs[class_dir]\n",
    "        for i in range(len(images) - 1):\n",
    "            img1, img2 = preprocess_image(images[i]), preprocess_image(images[i + 1])\n",
    "            pairs.append((img1, img2))\n",
    "            labels.append(1)\n",
    "\n",
    "            # Sample a negative from another class\n",
    "            other_class = random.choice([c for c in class_names if c != class_dir])\n",
    "            neg_img = preprocess_image(random.choice(class_to_imgs[other_class]))\n",
    "            pairs.append((img1, neg_img))\n",
    "            labels.append(0)\n",
    "\n",
    "    # Convert to numpy arrays\n",
    "    pair_left = np.array([p[0] for p in pairs])\n",
    "    pair_right = np.array([p[1] for p in pairs])\n",
    "    labels = np.array(labels)\n",
    "\n",
    "    # Train the model\n",
    "    embedding = make_embedding_model()\n",
    "    siamese_model = make_siamese_model(embedding)\n",
    "\n",
    "    siamese_model.compile(loss=\"binary_crossentropy\", optimizer=\"adam\", metrics=[\"accuracy\"])\n",
    "    siamese_model.fit([pair_left, pair_right], labels, batch_size=16, epochs=10)\n",
    "\n",
    "    # Save models\n",
    "    siamese_model.save(os.path.join(MODEL_DIR, \"siamese_model.h5\"))\n",
    "    embedding.save_weights(os.path.join(MODEL_DIR, \"embedding.weights.h5\"))  # Save embedding weights\n",
    "    embedding.\n",
    "\n",
    "    # Create and save embeddings for all classes\n",
    "    embedding_model = make_embedding_model()\n",
    "    embedding_model.load_weights(os.path.join(MODEL_DIR, \"embedding.weights.h5\"))  # Correct weights\n",
    "\n",
    "    class_embeddings = {}\n",
    "    for class_dir in class_names:\n",
    "        imgs = class_to_imgs[class_dir][:5]  # use first 5\n",
    "        embs = [embedding_model.predict(np.expand_dims(preprocess_image(p), axis=0))[0] for p in imgs]\n",
    "        mean_emb = np.mean(embs, axis=0)\n",
    "        class_embeddings[class_dir] = mean_emb\n",
    "\n",
    "    np.save(os.path.join(MODEL_DIR, \"class_embeddings.npy\"), class_embeddings)\n",
    "    print(\"[INFO] Training and embedding creation complete.\")\n"
   ]
  },
  {
   "cell_type": "code",
   "execution_count": 52,
   "id": "70e43d63-90ba-47ef-bb36-a19ee7f58ad8",
   "metadata": {},
   "outputs": [],
   "source": [
    "def realtime():\n",
    "    model = tf.keras.models.load_model(MODEL_WEIGHTS_PATH, custom_objects={'L1Dist': L1Dist})\n",
    "    embedding = model.get_layer(index=2).input[0]._keras_history[0]  # not elegant, works\n",
    "    class_embeddings = np.load(EMBEDDING_PATH, allow_pickle=True).item()\n",
    "    class_names = np.load(CLASS_NAMES_PATH)\n",
    "\n",
    "    cap = cv2.VideoCapture(0)\n",
    "    while cap.isOpened():\n",
    "        ret, frame = cap.read()\n",
    "        roi = frame[120:120+330, 150:150+330, :]\n",
    "        img = cv2.resize(roi, IMAGE_SIZE)\n",
    "        img = img / 255.0\n",
    "        emb = embedding.predict(np.expand_dims(img, axis=0))[0]\n",
    "\n",
    "        sims = [np.linalg.norm(emb - ce) for ce in class_embeddings]\n",
    "        min_idx = np.argmin(sims)\n",
    "        min_dist = sims[min_idx]\n",
    "\n",
    "        name = class_names[min_idx] if min_dist < 0.6 else \"Unknown\"\n",
    "\n",
    "        cv2.rectangle(frame, (150, 120), (480, 450), (0, 255, 0), 2)\n",
    "        cv2.putText(frame, f\"{name} ({min_dist:.2f})\", (150, 110), cv2.FONT_HERSHEY_SIMPLEX, 0.8, (0, 255, 0), 2)\n",
    "        cv2.imshow(\"Real-time Recognition\", frame)\n",
    "\n",
    "        if cv2.waitKey(1) & 0xFF == ord('q'):\n",
    "            break\n",
    "\n",
    "    cap.release()\n",
    "    cv2.destroyAllWindows()"
   ]
  },
  {
   "cell_type": "code",
   "execution_count": 46,
   "id": "d2e1dd5f-a024-4bd4-9f11-000612ac184c",
   "metadata": {},
   "outputs": [
    {
     "name": "stdout",
     "output_type": "stream",
     "text": [
      "[INFO] Starting training...\n",
      "Epoch 1/10\n",
      "\u001b[1m1/1\u001b[0m \u001b[32m━━━━━━━━━━━━━━━━━━━━\u001b[0m\u001b[37m\u001b[0m \u001b[1m3s\u001b[0m 3s/step - accuracy: 0.5000 - loss: 0.6925\n",
      "Epoch 2/10\n",
      "\u001b[1m1/1\u001b[0m \u001b[32m━━━━━━━━━━━━━━━━━━━━\u001b[0m\u001b[37m\u001b[0m \u001b[1m0s\u001b[0m 367ms/step - accuracy: 0.2000 - loss: 0.7036\n",
      "Epoch 3/10\n",
      "\u001b[1m1/1\u001b[0m \u001b[32m━━━━━━━━━━━━━━━━━━━━\u001b[0m\u001b[37m\u001b[0m \u001b[1m0s\u001b[0m 281ms/step - accuracy: 0.5000 - loss: 0.6807\n",
      "Epoch 4/10\n",
      "\u001b[1m1/1\u001b[0m \u001b[32m━━━━━━━━━━━━━━━━━━━━\u001b[0m\u001b[37m\u001b[0m \u001b[1m0s\u001b[0m 291ms/step - accuracy: 0.6000 - loss: 0.6821\n",
      "Epoch 5/10\n",
      "\u001b[1m1/1\u001b[0m \u001b[32m━━━━━━━━━━━━━━━━━━━━\u001b[0m\u001b[37m\u001b[0m \u001b[1m0s\u001b[0m 324ms/step - accuracy: 0.7000 - loss: 0.6465\n",
      "Epoch 6/10\n",
      "\u001b[1m1/1\u001b[0m \u001b[32m━━━━━━━━━━━━━━━━━━━━\u001b[0m\u001b[37m\u001b[0m \u001b[1m0s\u001b[0m 300ms/step - accuracy: 0.5000 - loss: 0.6886\n",
      "Epoch 7/10\n",
      "\u001b[1m1/1\u001b[0m \u001b[32m━━━━━━━━━━━━━━━━━━━━\u001b[0m\u001b[37m\u001b[0m \u001b[1m0s\u001b[0m 307ms/step - accuracy: 0.6000 - loss: 0.6826\n",
      "Epoch 8/10\n",
      "\u001b[1m1/1\u001b[0m \u001b[32m━━━━━━━━━━━━━━━━━━━━\u001b[0m\u001b[37m\u001b[0m \u001b[1m0s\u001b[0m 309ms/step - accuracy: 0.4000 - loss: 0.7210\n",
      "Epoch 9/10\n",
      "\u001b[1m1/1\u001b[0m \u001b[32m━━━━━━━━━━━━━━━━━━━━\u001b[0m\u001b[37m\u001b[0m \u001b[1m0s\u001b[0m 292ms/step - accuracy: 0.4000 - loss: 0.7131\n",
      "Epoch 10/10\n",
      "\u001b[1m1/1\u001b[0m \u001b[32m━━━━━━━━━━━━━━━━━━━━\u001b[0m\u001b[37m\u001b[0m \u001b[1m0s\u001b[0m 283ms/step - accuracy: 0.5000 - loss: 0.6689\n"
     ]
    },
    {
     "name": "stderr",
     "output_type": "stream",
     "text": [
      "WARNING:absl:You are saving your model as an HDF5 file via `model.save()` or `keras.saving.save_model(model)`. This file format is considered legacy. We recommend using instead the native Keras format, e.g. `model.save('my_model.keras')` or `keras.saving.save_model(model, 'my_model.keras')`. \n"
     ]
    },
    {
     "name": "stdout",
     "output_type": "stream",
     "text": [
      "\u001b[1m1/1\u001b[0m \u001b[32m━━━━━━━━━━━━━━━━━━━━\u001b[0m\u001b[37m\u001b[0m \u001b[1m0s\u001b[0m 426ms/step\n",
      "\u001b[1m1/1\u001b[0m \u001b[32m━━━━━━━━━━━━━━━━━━━━\u001b[0m\u001b[37m\u001b[0m \u001b[1m0s\u001b[0m 67ms/step\n",
      "\u001b[1m1/1\u001b[0m \u001b[32m━━━━━━━━━━━━━━━━━━━━\u001b[0m\u001b[37m\u001b[0m \u001b[1m0s\u001b[0m 78ms/step\n",
      "\u001b[1m1/1\u001b[0m \u001b[32m━━━━━━━━━━━━━━━━━━━━\u001b[0m\u001b[37m\u001b[0m \u001b[1m0s\u001b[0m 69ms/step\n",
      "\u001b[1m1/1\u001b[0m \u001b[32m━━━━━━━━━━━━━━━━━━━━\u001b[0m\u001b[37m\u001b[0m \u001b[1m0s\u001b[0m 100ms/step\n",
      "\u001b[1m1/1\u001b[0m \u001b[32m━━━━━━━━━━━━━━━━━━━━\u001b[0m\u001b[37m\u001b[0m \u001b[1m0s\u001b[0m 74ms/step\n",
      "\u001b[1m1/1\u001b[0m \u001b[32m━━━━━━━━━━━━━━━━━━━━\u001b[0m\u001b[37m\u001b[0m \u001b[1m0s\u001b[0m 84ms/step\n",
      "\u001b[1m1/1\u001b[0m \u001b[32m━━━━━━━━━━━━━━━━━━━━\u001b[0m\u001b[37m\u001b[0m \u001b[1m0s\u001b[0m 75ms/step\n",
      "\u001b[1m1/1\u001b[0m \u001b[32m━━━━━━━━━━━━━━━━━━━━\u001b[0m\u001b[37m\u001b[0m \u001b[1m0s\u001b[0m 67ms/step\n",
      "[INFO] Training and embedding creation complete.\n"
     ]
    }
   ],
   "source": [
    "if MODE == \"data_collection\":\n",
    "    collect_images()\n",
    "elif MODE == \"train\":\n",
    "    train()\n",
    "elif MODE == \"realtime\":\n",
    "    realtime()"
   ]
  },
  {
   "cell_type": "code",
   "execution_count": 54,
   "id": "8fa4929f-0979-4eaa-ad49-e17fcfb9907f",
   "metadata": {},
   "outputs": [
    {
     "name": "stderr",
     "output_type": "stream",
     "text": [
      "WARNING:absl:Compiled the loaded model, but the compiled metrics have yet to be built. `model.compile_metrics` will be empty until you train or evaluate the model.\n"
     ]
    },
    {
     "ename": "AttributeError",
     "evalue": "'GetItem' object has no attribute 'predict'",
     "output_type": "error",
     "traceback": [
      "\u001b[1;31m---------------------------------------------------------------------------\u001b[0m",
      "\u001b[1;31mAttributeError\u001b[0m                            Traceback (most recent call last)",
      "Cell \u001b[1;32mIn[54], line 1\u001b[0m\n\u001b[1;32m----> 1\u001b[0m \u001b[43mrealtime\u001b[49m\u001b[43m(\u001b[49m\u001b[43m)\u001b[49m\n",
      "Cell \u001b[1;32mIn[52], line 13\u001b[0m, in \u001b[0;36mrealtime\u001b[1;34m()\u001b[0m\n\u001b[0;32m     11\u001b[0m img \u001b[38;5;241m=\u001b[39m cv2\u001b[38;5;241m.\u001b[39mresize(roi, IMAGE_SIZE)\n\u001b[0;32m     12\u001b[0m img \u001b[38;5;241m=\u001b[39m img \u001b[38;5;241m/\u001b[39m \u001b[38;5;241m255.0\u001b[39m\n\u001b[1;32m---> 13\u001b[0m emb \u001b[38;5;241m=\u001b[39m \u001b[43membedding\u001b[49m\u001b[38;5;241;43m.\u001b[39;49m\u001b[43mpredict\u001b[49m(np\u001b[38;5;241m.\u001b[39mexpand_dims(img, axis\u001b[38;5;241m=\u001b[39m\u001b[38;5;241m0\u001b[39m))[\u001b[38;5;241m0\u001b[39m]\n\u001b[0;32m     15\u001b[0m sims \u001b[38;5;241m=\u001b[39m [np\u001b[38;5;241m.\u001b[39mlinalg\u001b[38;5;241m.\u001b[39mnorm(emb \u001b[38;5;241m-\u001b[39m ce) \u001b[38;5;28;01mfor\u001b[39;00m ce \u001b[38;5;129;01min\u001b[39;00m class_embeddings]\n\u001b[0;32m     16\u001b[0m min_idx \u001b[38;5;241m=\u001b[39m np\u001b[38;5;241m.\u001b[39margmin(sims)\n",
      "\u001b[1;31mAttributeError\u001b[0m: 'GetItem' object has no attribute 'predict'"
     ]
    }
   ],
   "source": [
    "realtime()"
   ]
  },
  {
   "cell_type": "code",
   "execution_count": null,
   "id": "447a84f4-f297-428c-ab9c-49c3745af56d",
   "metadata": {},
   "outputs": [],
   "source": []
  },
  {
   "cell_type": "code",
   "execution_count": null,
   "id": "d22a17bd-cf71-4a67-912a-46dcca1f3bbb",
   "metadata": {},
   "outputs": [],
   "source": []
  },
  {
   "cell_type": "code",
   "execution_count": null,
   "id": "5a0ade07-36a2-49eb-b2ca-9d019f52efca",
   "metadata": {},
   "outputs": [],
   "source": []
  },
  {
   "cell_type": "code",
   "execution_count": null,
   "id": "94968b5b-6b82-44aa-9069-aecbfa21cfab",
   "metadata": {},
   "outputs": [],
   "source": []
  },
  {
   "cell_type": "code",
   "execution_count": null,
   "id": "15b5d643-65b8-4fe7-bb8f-c2c4cf9cbdb4",
   "metadata": {},
   "outputs": [],
   "source": []
  },
  {
   "cell_type": "code",
   "execution_count": null,
   "id": "07f81934-ad33-431f-9788-7cdaa50714c1",
   "metadata": {},
   "outputs": [],
   "source": []
  },
  {
   "cell_type": "code",
   "execution_count": null,
   "id": "0fbb0ab0-d9a7-485d-8702-abcd9f64afca",
   "metadata": {},
   "outputs": [],
   "source": []
  },
  {
   "cell_type": "code",
   "execution_count": null,
   "id": "b92a2023-c017-4ea0-a177-3169181c15e2",
   "metadata": {},
   "outputs": [],
   "source": []
  },
  {
   "cell_type": "code",
   "execution_count": null,
   "id": "e87f11a7-19ff-4aae-b912-1da86448eaec",
   "metadata": {},
   "outputs": [],
   "source": []
  },
  {
   "cell_type": "code",
   "execution_count": null,
   "id": "015ef983-0312-4688-a254-efbb67a8bfb7",
   "metadata": {},
   "outputs": [],
   "source": []
  },
  {
   "cell_type": "code",
   "execution_count": null,
   "id": "c731a555-cc6d-4fdb-ada5-d4751fe7a341",
   "metadata": {},
   "outputs": [],
   "source": []
  },
  {
   "cell_type": "code",
   "execution_count": null,
   "id": "d7f22e33-4b4c-49c7-8f52-b8b7af8c0900",
   "metadata": {},
   "outputs": [],
   "source": []
  },
  {
   "cell_type": "code",
   "execution_count": null,
   "id": "22adaf71-34c5-4293-a14c-82fc431d89ba",
   "metadata": {},
   "outputs": [],
   "source": []
  },
  {
   "cell_type": "code",
   "execution_count": null,
   "id": "b1c88507-1ddb-4651-adc6-b2e86d7727f2",
   "metadata": {},
   "outputs": [],
   "source": []
  },
  {
   "cell_type": "code",
   "execution_count": null,
   "id": "3a7de4e8-038f-424b-8c9a-a041ee8e41f3",
   "metadata": {},
   "outputs": [],
   "source": []
  },
  {
   "cell_type": "code",
   "execution_count": null,
   "id": "b07252e0-04a2-4b8d-8aca-ada899be7286",
   "metadata": {},
   "outputs": [],
   "source": []
  }
 ],
 "metadata": {
  "kernelspec": {
   "display_name": "Python 3 (ipykernel)",
   "language": "python",
   "name": "python3"
  },
  "language_info": {
   "codemirror_mode": {
    "name": "ipython",
    "version": 3
   },
   "file_extension": ".py",
   "mimetype": "text/x-python",
   "name": "python",
   "nbconvert_exporter": "python",
   "pygments_lexer": "ipython3",
   "version": "3.9.21"
  }
 },
 "nbformat": 4,
 "nbformat_minor": 5
}
